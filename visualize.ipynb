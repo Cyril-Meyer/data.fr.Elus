{
 "cells": [
  {
   "cell_type": "code",
   "execution_count": null,
   "id": "795ee56c-2ca9-4d18-afd6-61e0342d9d0e",
   "metadata": {},
   "outputs": [],
   "source": [
    "import pandas as pd\n",
    "\n",
    "import numpy as np\n",
    "import plotly.express as px\n",
    "import plotly.graph_objects as go\n",
    "import plotly.offline\n",
    "import plotly.subplots\n",
    "\n",
    "from tqdm import tqdm\n",
    "from IPython.display import HTML\n",
    "from IPython.display import SVG"
   ]
  },
  {
   "cell_type": "code",
   "execution_count": null,
   "id": "4a99a9a3-7781-4ad4-a0b9-ae24ec2acffc",
   "metadata": {},
   "outputs": [],
   "source": [
    "# les conseillers municipaux\n",
    "df_cm  = pd.read_csv(f'raw/rne-cm.csv', sep='\\t', usecols=[\"Nom de l'élu\", \"Prénom de l'élu\", \"Date de naissance\", \"Code de la catégorie socio-professionnelle\", \"Libellé de la catégorie socio-professionnelle\"])\n",
    "# les conseillers communautaires\n",
    "df_epci = pd.read_csv(f'raw/rne-epci.csv', sep='\\t', usecols=[\"Nom de l'élu\", \"Prénom de l'élu\", \"Date de naissance\", \"Code de la catégorie socio-professionnelle\", \"Libellé de la catégorie socio-professionnelle\"])\n",
    "# les conseillers départementaux\n",
    "df_cd  = pd.read_csv(f'raw/rne-cd.csv', sep='\\t', usecols=[\"Nom de l'élu\", \"Prénom de l'élu\", \"Date de naissance\", \"Code de la catégorie socio-professionnelle\", \"Libellé de la catégorie socio-professionnelle\"])\n",
    "# les conseillers régionaux\n",
    "df_cr  = pd.read_csv(f'raw/rne-cr.csv', sep='\\t', usecols=[\"Nom de l'élu\", \"Prénom de l'élu\", \"Date de naissance\", \"Code de la catégorie socio-professionnelle\", \"Libellé de la catégorie socio-professionnelle\"])\n",
    "# les membres des assemblées des collectivités à statut particulier\n",
    "df_ma   = pd.read_csv(f'raw/rne-ma.csv', sep='\\t', usecols=[\"Nom de l'élu\", \"Prénom de l'élu\", \"Date de naissance\", \"Code de la catégorie socio-professionnelle\", \"Libellé de la catégorie socio-professionnelle\"])\n",
    "# les représentants au Parlement européen\n",
    "df_rpe = pd.read_csv(f'raw/rne-rpe.csv', sep='\\t', usecols=[\"Nom de l'élu\", \"Prénom de l'élu\", \"Date de naissance\", \"Code de la catégorie socio-professionnelle\", \"Libellé de la catégorie socio-professionnelle\"])\n",
    "# les sénateurs\n",
    "df_sen = pd.read_csv(f'raw/rne-sen.csv', sep='\\t', usecols=[\"Nom de l'élu\", \"Prénom de l'élu\", \"Date de naissance\", \"Code de la catégorie socio-professionnelle\", \"Libellé de la catégorie socio-professionnelle\"])\n",
    "# les députés\n",
    "df_dep = pd.read_csv(f'raw/rne-dep.csv', sep='\\t', usecols=[\"Nom de l'élu\", \"Prénom de l'élu\", \"Date de naissance\", \"Code de la catégorie socio-professionnelle\", \"Libellé de la catégorie socio-professionnelle\"])\n",
    "# les maires\n",
    "df_mai = pd.read_csv(f'raw/rne-maires.csv', sep='\\t', usecols=[\"Nom de l'élu\", \"Prénom de l'élu\", \"Date de naissance\", \"Code de la catégorie socio-professionnelle\", \"Libellé de la catégorie socio-professionnelle\"])"
   ]
  },
  {
   "cell_type": "code",
   "execution_count": null,
   "id": "1c794b72-9a7d-4e84-a791-ac372888966a",
   "metadata": {},
   "outputs": [],
   "source": [
    "for df in [df_cm, df_epci, df_cd, df_cr, df_ma, df_rpe, df_sen, df_dep, df_mai]:\n",
    "    df.rename(columns={\"Nom de l'élu\" : 'name',\n",
    "                   \"Prénom de l'élu\" : 'firstname',\n",
    "                   \"Date de naissance\" : 'birthdate',\n",
    "                   # \"Libellé de la fonction\" : 'function',\n",
    "                   },\n",
    "         inplace=True)\n",
    "    df[\"Code de la catégorie socio-professionnelle\"] = df[\"Code de la catégorie socio-professionnelle\"].fillna(0)\n",
    "    \n",
    "    df['codename'] = df[\"name\"] + \"_\" + df[\"firstname\"] + df[\"birthdate\"]\n",
    "    df['sociocode'] = df[\"Code de la catégorie socio-professionnelle\"].astype(int).astype(str) + \" \" + df[\"Libellé de la catégorie socio-professionnelle\"]\n",
    "    df.sociocode = df.sociocode.str.replace(\"(obsolète)\", \"\", regex=False)"
   ]
  },
  {
   "cell_type": "code",
   "execution_count": null,
   "id": "02b1b287-1584-4401-b373-618a00581635",
   "metadata": {},
   "outputs": [],
   "source": [
    "df = pd.concat([df_cm, df_epci, df_cd, df_cr, df_ma, df_rpe, df_sen, df_dep, df_mai])\n",
    "u, c = np.unique(df.codename.astype(str), return_counts=True)"
   ]
  },
  {
   "cell_type": "code",
   "execution_count": null,
   "id": "d20b4e83-8fb0-44a8-8dba-837df2583de8",
   "metadata": {},
   "outputs": [],
   "source": [
    "fig = px.histogram(pd.DataFrame({'Mandats':c, 'unit':u}), x='Mandats', title='Nombre de mandats pour une même personne')\n",
    "plotly.offline.plot(fig, filename=f'nombre_mandats.html', auto_open=False)\n",
    "fig.show()"
   ]
  },
  {
   "cell_type": "code",
   "execution_count": null,
   "id": "0623b263-0a3f-4300-b8b8-5ebc3c15de93",
   "metadata": {},
   "outputs": [],
   "source": [
    "fig = px.bar(df.groupby([df.sociocode]).size(), title='Catégorie socio-professionnelle des élus')\n",
    "fig.update_layout(xaxis={'categoryorder':'total descending'}, showlegend=False)\n",
    "plotly.offline.plot(fig, filename=f'categorie_socio_professionnelle.html', auto_open=False)\n",
    "fig.show()"
   ]
  },
  {
   "cell_type": "code",
   "execution_count": null,
   "id": "b0140105-5e3c-4e34-ac42-fc97b59501cf",
   "metadata": {},
   "outputs": [],
   "source": []
  }
 ],
 "metadata": {
  "kernelspec": {
   "display_name": "Python 3 (ipykernel)",
   "language": "python",
   "name": "python3"
  },
  "language_info": {
   "codemirror_mode": {
    "name": "ipython",
    "version": 3
   },
   "file_extension": ".py",
   "mimetype": "text/x-python",
   "name": "python",
   "nbconvert_exporter": "python",
   "pygments_lexer": "ipython3",
   "version": "3.7.9"
  }
 },
 "nbformat": 4,
 "nbformat_minor": 5
}
